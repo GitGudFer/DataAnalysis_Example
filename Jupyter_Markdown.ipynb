{
 "cells": [
  {
   "cell_type": "markdown",
   "id": "ee153dfa-2938-4b48-aeae-6f13c11c5c7b",
   "metadata": {},
   "source": [
    "## Comandos de Jupyter"
   ]
  },
  {
   "cell_type": "markdown",
   "id": "f5f05cf9-34e9-43ad-950b-5ad152585594",
   "metadata": {
    "editable": true,
    "slideshow": {
     "slide_type": ""
    },
    "tags": []
   },
   "source": [
    "Jupyter usa dos modos: command mode (celdas en gris), y edit mode.\n",
    "\n",
    "Para cambiar entre modos se puede simplemente seleccionar fuera de una celda o dar doble click dentro de la celda; o con las teclas esc (command) y return/enter (edit).\n",
    "\n",
    "**Comandos útiles de Jupyter (consultar Command Palette):**\n",
    "\n",
    "- arrow keys: moverse entre celdas\n",
    "- cambiar entre Markdown y Code: M/Y respectivamente\n",
    "- A: insertar celda por encima\n",
    "- B: insertar celda por debajo\n",
    "- D+D: eliminar celda\n",
    "- Z (command mode): undo\n",
    "- C: copiar celda\n",
    "- X: cortar celda\n",
    "- V: pegar celda\n",
    "- ctrl + enter: correr celda \n",
    "- shift + enter: correr celda y pasar a la siguiente\n"
   ]
  },
  {
   "cell_type": "markdown",
   "id": "66b7559e-0350-479a-835d-932775491d96",
   "metadata": {},
   "source": [
    "## Importar y exportar datos en Jupyter"
   ]
  },
  {
   "cell_type": "code",
   "execution_count": null,
   "id": "0306b619-9535-4548-97d5-be7409ef6789",
   "metadata": {},
   "outputs": [],
   "source": []
  }
 ],
 "metadata": {
  "kernelspec": {
   "display_name": "Python 3 (ipykernel)",
   "language": "python",
   "name": "python3"
  },
  "language_info": {
   "codemirror_mode": {
    "name": "ipython",
    "version": 3
   },
   "file_extension": ".py",
   "mimetype": "text/x-python",
   "name": "python",
   "nbconvert_exporter": "python",
   "pygments_lexer": "ipython3",
   "version": "3.11.5"
  }
 },
 "nbformat": 4,
 "nbformat_minor": 5
}
